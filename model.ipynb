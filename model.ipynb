{
 "cells": [
  {
   "cell_type": "code",
   "execution_count": 39,
   "id": "dab8e297",
   "metadata": {},
   "outputs": [],
   "source": [
    "import torch\n",
    "import torchvision.models as models\n",
    "from torchvision import datasets, transforms\n",
    "from torch.utils.data import DataLoader\n",
    "from sklearn.metrics import accuracy_score\n",
    "import pandas as pd\n",
    "\n",
    "# Set device\n",
    "device = torch.device(\"cuda\" if torch.cuda.is_available() else \"cpu\")\n",
    "\n",
    "# Load pre-trained ResNet50\n",
    "model = models.resnet50(weights='IMAGENET1K_V1')\n",
    "model.eval()\n",
    "model = model.to(device)"
   ]
  },
  {
   "cell_type": "code",
   "execution_count": null,
   "id": "67532672",
   "metadata": {},
   "outputs": [
    {
     "data": {
      "text/plain": [
       "True"
      ]
     },
     "execution_count": 37,
     "metadata": {},
     "output_type": "execute_result"
    }
   ],
   "source": [
    "\n",
    "from pathlib import Path\n",
    "import os\n",
    "\n",
    "path = Path(\"C:\\\\Users\\\\mcw\\\\Downloads\\\\imagenette2\\\\imagenette2\\\\val\")\n",
    "os.path.exists(path)\n"
   ]
  },
  {
   "cell_type": "code",
   "execution_count": null,
   "id": "0ddc09ad",
   "metadata": {},
   "outputs": [],
   "source": [
    "# Define preprocessing\n",
    "preprocess = transforms.Compose([\n",
    "    transforms.Resize(256),\n",
    "    transforms.CenterCrop(224),\n",
    "    transforms.ToTensor(),\n",
    "    transforms.Normalize(mean=[0.485, 0.456, 0.406], std=[0.229, 0.224, 0.225])\n",
    "])\n",
    "\n",
    "# Load validation dataset\n",
    "val_dataset = datasets.ImageFolder(root=path, transform=preprocess)\n",
    "val_loader = DataLoader(val_dataset, batch_size=64, shuffle=False, num_workers=4, pin_memory=True)\n",
    "\n",
    "# Map ImageNet IDs to readable Imagenette class names\n",
    "imagenette_labels = {\n",
    "    'n01440764': 'tench', 'n02102040': 'English springer', 'n02979186': 'cassette player',\n",
    "    'n03000684': 'chain saw', 'n03028079': 'church', 'n03394916': 'French horn',\n",
    "    'n03417042': 'garbage truck', 'n03425413': 'gas pump', 'n03445777': 'golf ball',\n",
    "    'n03888257': 'parachute'\n",
    "}\n",
    "class_names = val_dataset.classes\n",
    "idx_to_readable_class = {i: imagenette_labels[c] for i, c in enumerate(class_names)}"
   ]
  },
  {
   "cell_type": "code",
   "execution_count": 41,
   "id": "c6949018",
   "metadata": {},
   "outputs": [
    {
     "name": "stderr",
     "output_type": "stream",
     "text": [
      "c:\\Users\\mcw\\Desktop\\jenkins-inference-pipeline\\.venv\\Lib\\site-packages\\torch\\utils\\data\\dataloader.py:665: UserWarning: 'pin_memory' argument is set as true but no accelerator is found, then device pinned memory won't be used.\n",
      "  warnings.warn(warn_msg)\n"
     ]
    }
   ],
   "source": [
    "#Perform inference\n",
    "def predict_validation_set(model, val_loader):\n",
    "    predictions = []\n",
    "    true_labels = []\n",
    "    image_paths = [p for p in val_dataset.imgs]\n",
    "    \n",
    "    model.eval()\n",
    "    with torch.no_grad():\n",
    "        for images, labels in val_loader:\n",
    "            images = images.to(device)\n",
    "            labels = labels.to(device)\n",
    "            outputs = model(images)\n",
    "            probs = torch.nn.functional.softmax(outputs, dim=1)\n",
    "            _, preds = torch.max(probs, dim=1)\n",
    "            predictions.extend(preds.cpu().numpy())\n",
    "            true_labels.extend(labels.cpu().numpy())\n",
    "    \n",
    "    return predictions, true_labels, image_paths\n",
    "\n",
    "# Run inference\n",
    "predictions, true_labels, image_paths = predict_validation_set(model, val_loader)"
   ]
  },
  {
   "cell_type": "code",
   "execution_count": 42,
   "id": "6314f46c",
   "metadata": {},
   "outputs": [
    {
     "ename": "KeyError",
     "evalue": "np.int64(391)",
     "output_type": "error",
     "traceback": [
      "\u001b[31m---------------------------------------------------------------------------\u001b[39m",
      "\u001b[31mKeyError\u001b[39m                                  Traceback (most recent call last)",
      "\u001b[36mCell\u001b[39m\u001b[36m \u001b[39m\u001b[32mIn[42]\u001b[39m\u001b[32m, line 2\u001b[39m\n\u001b[32m      1\u001b[39m \u001b[38;5;66;03m# Convert to readable class names\u001b[39;00m\n\u001b[32m----> \u001b[39m\u001b[32m2\u001b[39m pred_classes = [\u001b[43midx_to_readable_class\u001b[49m\u001b[43m[\u001b[49m\u001b[43mp\u001b[49m\u001b[43m]\u001b[49m \u001b[38;5;28;01mfor\u001b[39;00m p \u001b[38;5;129;01min\u001b[39;00m predictions]\n\u001b[32m      3\u001b[39m true_classes = [idx_to_readable_class[t] \u001b[38;5;28;01mfor\u001b[39;00m t \u001b[38;5;129;01min\u001b[39;00m true_labels]\n\u001b[32m      4\u001b[39m image_filenames = [p[\u001b[32m0\u001b[39m].split(\u001b[33m'\u001b[39m\u001b[33m/\u001b[39m\u001b[33m'\u001b[39m)[-\u001b[32m1\u001b[39m] \u001b[38;5;28;01mfor\u001b[39;00m p \u001b[38;5;129;01min\u001b[39;00m image_paths]\n",
      "\u001b[31mKeyError\u001b[39m: np.int64(391)"
     ]
    }
   ],
   "source": [
    "# Convert to readable class names\n",
    "pred_classes = [idx_to_readable_class[p] for p in predictions]\n",
    "true_classes = [idx_to_readable_class[t] for t in true_labels]\n",
    "image_filenames = [p[0].split('/')[-1] for p in image_paths]\n",
    "\n",
    "# Calculate and display accuracy\n",
    "accuracy = accuracy_score(true_classes, pred_classes)\n",
    "print(f\"Top-1 Accuracy: {accuracy*100:.2f}%\")\n",
    "\n",
    "# Display sample predictions\n",
    "print(\"\\nSample Predictions:\")\n",
    "for i in range(5):\n",
    "    print(f\"Image: {image_filenames[i]}, Predicted: {pred_classes[i]}, True: {true_classes[i]}\")\n",
    "\n",
    "# Save results\n",
    "results = pd.DataFrame({\n",
    "    'Image': image_filenames,\n",
    "    'Predicted': pred_classes,\n",
    "    'True': true_classes\n",
    "})\n",
    "results.to_csv('imagenette_predictions.csv', index=False)\n",
    "print(\"Predictions saved to imagenette_predictions.csv\")"
   ]
  }
 ],
 "metadata": {
  "kernelspec": {
   "display_name": ".venv",
   "language": "python",
   "name": "python3"
  },
  "language_info": {
   "codemirror_mode": {
    "name": "ipython",
    "version": 3
   },
   "file_extension": ".py",
   "mimetype": "text/x-python",
   "name": "python",
   "nbconvert_exporter": "python",
   "pygments_lexer": "ipython3",
   "version": "3.12.10"
  }
 },
 "nbformat": 4,
 "nbformat_minor": 5
}
